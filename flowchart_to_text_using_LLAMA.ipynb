{
  "cells": [
    {
      "cell_type": "markdown",
      "metadata": {
        "id": "view-in-github",
        "colab_type": "text"
      },
      "source": [
        "<a href=\"https://colab.research.google.com/github/iamRahulB/flowchart-to-text-using-LLAMA/blob/main/flowchart_to_text_using_LLAMA.ipynb\" target=\"_parent\"><img src=\"https://colab.research.google.com/assets/colab-badge.svg\" alt=\"Open In Colab\"/></a>"
      ]
    },
    {
      "cell_type": "code",
      "execution_count": null,
      "metadata": {
        "colab": {
          "base_uri": "https://localhost:8080/"
        },
        "id": "8QkTvMxCdlcM",
        "outputId": "8d850471-d696-40c2-c0c1-77871dba9d0f"
      },
      "outputs": [
        {
          "name": "stdout",
          "output_type": "stream",
          "text": [
            "\u001b[2K   \u001b[90m━━━━━━━━━━━━━━━━━━━━━━━━━━━━━━━━━━━━━━━━\u001b[0m \u001b[32m119.8/119.8 MB\u001b[0m \u001b[31m4.4 MB/s\u001b[0m eta \u001b[36m0:00:00\u001b[0m\n",
            "\u001b[2K   \u001b[90m━━━━━━━━━━━━━━━━━━━━━━━━━━━━━━━━━━━━━━━━\u001b[0m \u001b[32m21.3/21.3 MB\u001b[0m \u001b[31m19.1 MB/s\u001b[0m eta \u001b[36m0:00:00\u001b[0m\n",
            "\u001b[?25h"
          ]
        }
      ],
      "source": [
        "!pip install --quiet bitsandbytes==0.43.1\n"
      ]
    },
    {
      "cell_type": "code",
      "execution_count": null,
      "metadata": {
        "colab": {
          "base_uri": "https://localhost:8080/",
          "height": 1000,
          "referenced_widgets": [
            "d48defa9e77348b58f4d99eb0e031b34",
            "5791911c22154551a6a059b36e3c076e",
            "ac4338e56ffb430a8f72161dbbde0572",
            "bad2bc1eec03444bbeb3d8708ae0f92a",
            "22508a21e1a3485cb90a08903f1f7009",
            "0772191ebe0940eb9befe320ef12c705",
            "87edb64099074bc896bdae9203623646",
            "c90c0d51ff3e4965861c650c578033f7",
            "f943105f12fc470e8ed2393abcc8b440",
            "e18fab65ff7e48d6b272f061d4344755",
            "7ec15a0eea1944c4a62de38983f2ccee",
            "ffaed6addfcc4adea00972bffe7c0d4a",
            "aa0d38943fba4ed8b3891a84b4beeede"
          ]
        },
        "id": "u-DeqQXnMuHY",
        "outputId": "b849a1c9-3de9-4444-dc33-266426f8316b"
      },
      "outputs": [
        {
          "name": "stderr",
          "output_type": "stream",
          "text": [
            "/usr/local/lib/python3.10/dist-packages/huggingface_hub/utils/_token.py:89: UserWarning: \n",
            "The secret `HF_TOKEN` does not exist in your Colab secrets.\n",
            "To authenticate with the Hugging Face Hub, create a token in your settings tab (https://huggingface.co/settings/tokens), set it as secret in your Google Colab and restart your session.\n",
            "You will be able to reuse this secret in all of your notebooks.\n",
            "Please note that authentication is recommended but still optional to access public models or datasets.\n",
            "  warnings.warn(\n"
          ]
        },
        {
          "data": {
            "application/vnd.jupyter.widget-view+json": {
              "model_id": "d48defa9e77348b58f4d99eb0e031b34",
              "version_major": 2,
              "version_minor": 0
            },
            "text/plain": [
              "config.json:   0%|          | 0.00/1.91k [00:00<?, ?B/s]"
            ]
          },
          "metadata": {},
          "output_type": "display_data"
        },
        {
          "data": {
            "application/vnd.jupyter.widget-view+json": {
              "model_id": "5791911c22154551a6a059b36e3c076e",
              "version_major": 2,
              "version_minor": 0
            },
            "text/plain": [
              "configuration_minicpm.py:   0%|          | 0.00/4.06k [00:00<?, ?B/s]"
            ]
          },
          "metadata": {},
          "output_type": "display_data"
        },
        {
          "name": "stderr",
          "output_type": "stream",
          "text": [
            "A new version of the following files was downloaded from https://huggingface.co/openbmb/MiniCPM-Llama3-V-2_5-int4:\n",
            "- configuration_minicpm.py\n",
            ". Make sure to double-check they do not contain any added malicious code. To avoid downloading new versions of the code file, you can pin a revision.\n"
          ]
        },
        {
          "data": {
            "application/vnd.jupyter.widget-view+json": {
              "model_id": "ac4338e56ffb430a8f72161dbbde0572",
              "version_major": 2,
              "version_minor": 0
            },
            "text/plain": [
              "modeling_minicpmv.py:   0%|          | 0.00/25.0k [00:00<?, ?B/s]"
            ]
          },
          "metadata": {},
          "output_type": "display_data"
        },
        {
          "data": {
            "application/vnd.jupyter.widget-view+json": {
              "model_id": "bad2bc1eec03444bbeb3d8708ae0f92a",
              "version_major": 2,
              "version_minor": 0
            },
            "text/plain": [
              "resampler.py:   0%|          | 0.00/5.49k [00:00<?, ?B/s]"
            ]
          },
          "metadata": {},
          "output_type": "display_data"
        },
        {
          "name": "stderr",
          "output_type": "stream",
          "text": [
            "A new version of the following files was downloaded from https://huggingface.co/openbmb/MiniCPM-Llama3-V-2_5-int4:\n",
            "- resampler.py\n",
            ". Make sure to double-check they do not contain any added malicious code. To avoid downloading new versions of the code file, you can pin a revision.\n",
            "A new version of the following files was downloaded from https://huggingface.co/openbmb/MiniCPM-Llama3-V-2_5-int4:\n",
            "- modeling_minicpmv.py\n",
            "- resampler.py\n",
            ". Make sure to double-check they do not contain any added malicious code. To avoid downloading new versions of the code file, you can pin a revision.\n",
            "Unused kwargs: ['_load_in_4bit', '_load_in_8bit', 'quant_method']. These kwargs are not used in <class 'transformers.utils.quantization_config.BitsAndBytesConfig'>.\n",
            "`low_cpu_mem_usage` was None, now set to True since model is quantized.\n"
          ]
        },
        {
          "data": {
            "application/vnd.jupyter.widget-view+json": {
              "model_id": "22508a21e1a3485cb90a08903f1f7009",
              "version_major": 2,
              "version_minor": 0
            },
            "text/plain": [
              "model.safetensors.index.json:   0%|          | 0.00/244k [00:00<?, ?B/s]"
            ]
          },
          "metadata": {},
          "output_type": "display_data"
        },
        {
          "data": {
            "application/vnd.jupyter.widget-view+json": {
              "model_id": "0772191ebe0940eb9befe320ef12c705",
              "version_major": 2,
              "version_minor": 0
            },
            "text/plain": [
              "Downloading shards:   0%|          | 0/2 [00:00<?, ?it/s]"
            ]
          },
          "metadata": {},
          "output_type": "display_data"
        },
        {
          "data": {
            "application/vnd.jupyter.widget-view+json": {
              "model_id": "87edb64099074bc896bdae9203623646",
              "version_major": 2,
              "version_minor": 0
            },
            "text/plain": [
              "model-00001-of-00002.safetensors:   0%|          | 0.00/4.65G [00:00<?, ?B/s]"
            ]
          },
          "metadata": {},
          "output_type": "display_data"
        },
        {
          "data": {
            "application/vnd.jupyter.widget-view+json": {
              "model_id": "c90c0d51ff3e4965861c650c578033f7",
              "version_major": 2,
              "version_minor": 0
            },
            "text/plain": [
              "model-00002-of-00002.safetensors:   0%|          | 0.00/1.51G [00:00<?, ?B/s]"
            ]
          },
          "metadata": {},
          "output_type": "display_data"
        },
        {
          "data": {
            "application/vnd.jupyter.widget-view+json": {
              "model_id": "f943105f12fc470e8ed2393abcc8b440",
              "version_major": 2,
              "version_minor": 0
            },
            "text/plain": [
              "Loading checkpoint shards:   0%|          | 0/2 [00:00<?, ?it/s]"
            ]
          },
          "metadata": {},
          "output_type": "display_data"
        },
        {
          "data": {
            "application/vnd.jupyter.widget-view+json": {
              "model_id": "e18fab65ff7e48d6b272f061d4344755",
              "version_major": 2,
              "version_minor": 0
            },
            "text/plain": [
              "generation_config.json:   0%|          | 0.00/121 [00:00<?, ?B/s]"
            ]
          },
          "metadata": {},
          "output_type": "display_data"
        },
        {
          "data": {
            "application/vnd.jupyter.widget-view+json": {
              "model_id": "7ec15a0eea1944c4a62de38983f2ccee",
              "version_major": 2,
              "version_minor": 0
            },
            "text/plain": [
              "tokenizer_config.json:   0%|          | 0.00/50.9k [00:00<?, ?B/s]"
            ]
          },
          "metadata": {},
          "output_type": "display_data"
        },
        {
          "data": {
            "application/vnd.jupyter.widget-view+json": {
              "model_id": "ffaed6addfcc4adea00972bffe7c0d4a",
              "version_major": 2,
              "version_minor": 0
            },
            "text/plain": [
              "tokenizer.json:   0%|          | 0.00/9.08M [00:00<?, ?B/s]"
            ]
          },
          "metadata": {},
          "output_type": "display_data"
        },
        {
          "data": {
            "application/vnd.jupyter.widget-view+json": {
              "model_id": "aa0d38943fba4ed8b3891a84b4beeede",
              "version_major": 2,
              "version_minor": 0
            },
            "text/plain": [
              "special_tokens_map.json:   0%|          | 0.00/459 [00:00<?, ?B/s]"
            ]
          },
          "metadata": {},
          "output_type": "display_data"
        },
        {
          "name": "stderr",
          "output_type": "stream",
          "text": [
            "Special tokens have been added in the vocabulary, make sure the associated word embeddings are fine-tuned or trained.\n"
          ]
        },
        {
          "data": {
            "text/plain": [
              "MiniCPMV(\n",
              "  (llm): LlamaForCausalLM(\n",
              "    (model): LlamaModel(\n",
              "      (embed_tokens): Embedding(128256, 4096)\n",
              "      (layers): ModuleList(\n",
              "        (0-31): 32 x LlamaDecoderLayer(\n",
              "          (self_attn): LlamaSdpaAttention(\n",
              "            (q_proj): Linear4bit(in_features=4096, out_features=4096, bias=False)\n",
              "            (k_proj): Linear4bit(in_features=4096, out_features=1024, bias=False)\n",
              "            (v_proj): Linear4bit(in_features=4096, out_features=1024, bias=False)\n",
              "            (o_proj): Linear4bit(in_features=4096, out_features=4096, bias=False)\n",
              "            (rotary_emb): LlamaRotaryEmbedding()\n",
              "          )\n",
              "          (mlp): LlamaMLP(\n",
              "            (gate_proj): Linear4bit(in_features=4096, out_features=14336, bias=False)\n",
              "            (up_proj): Linear4bit(in_features=4096, out_features=14336, bias=False)\n",
              "            (down_proj): Linear4bit(in_features=14336, out_features=4096, bias=False)\n",
              "            (act_fn): SiLU()\n",
              "          )\n",
              "          (input_layernorm): LlamaRMSNorm()\n",
              "          (post_attention_layernorm): LlamaRMSNorm()\n",
              "        )\n",
              "      )\n",
              "      (norm): LlamaRMSNorm()\n",
              "    )\n",
              "    (lm_head): Linear(in_features=4096, out_features=128256, bias=False)\n",
              "  )\n",
              "  (vpm): Idefics2VisionTransformer(\n",
              "    (embeddings): Idefics2VisionEmbeddings(\n",
              "      (patch_embedding): Conv2d(3, 1152, kernel_size=(14, 14), stride=(14, 14), padding=valid)\n",
              "      (position_embedding): Embedding(4900, 1152)\n",
              "    )\n",
              "    (encoder): Idefics2Encoder(\n",
              "      (layers): ModuleList(\n",
              "        (0-26): 27 x Idefics2EncoderLayer(\n",
              "          (self_attn): Idefics2VisionAttention(\n",
              "            (k_proj): Linear4bit(in_features=1152, out_features=1152, bias=True)\n",
              "            (v_proj): Linear4bit(in_features=1152, out_features=1152, bias=True)\n",
              "            (q_proj): Linear4bit(in_features=1152, out_features=1152, bias=True)\n",
              "            (out_proj): Linear(in_features=1152, out_features=1152, bias=True)\n",
              "          )\n",
              "          (layer_norm1): LayerNorm((1152,), eps=1e-06, elementwise_affine=True)\n",
              "          (mlp): Idefics2VisionMLP(\n",
              "            (activation_fn): PytorchGELUTanh()\n",
              "            (fc1): Linear4bit(in_features=1152, out_features=4304, bias=True)\n",
              "            (fc2): Linear4bit(in_features=4304, out_features=1152, bias=True)\n",
              "          )\n",
              "          (layer_norm2): LayerNorm((1152,), eps=1e-06, elementwise_affine=True)\n",
              "        )\n",
              "      )\n",
              "    )\n",
              "    (post_layernorm): LayerNorm((1152,), eps=1e-06, elementwise_affine=True)\n",
              "  )\n",
              "  (resampler): Resampler(\n",
              "    (kv_proj): Linear(in_features=1152, out_features=4096, bias=False)\n",
              "    (attn): MultiheadAttention(\n",
              "      (out_proj): NonDynamicallyQuantizableLinear(in_features=4096, out_features=4096, bias=True)\n",
              "    )\n",
              "    (ln_q): LayerNorm((4096,), eps=1e-06, elementwise_affine=True)\n",
              "    (ln_kv): LayerNorm((4096,), eps=1e-06, elementwise_affine=True)\n",
              "    (ln_post): LayerNorm((4096,), eps=1e-06, elementwise_affine=True)\n",
              "  )\n",
              ")"
            ]
          },
          "execution_count": 2,
          "metadata": {},
          "output_type": "execute_result"
        }
      ],
      "source": [
        "import torch\n",
        "from PIL import Image\n",
        "from transformers import AutoModel, AutoTokenizer\n",
        "\n",
        "model = AutoModel.from_pretrained('openbmb/MiniCPM-Llama3-V-2_5-int4', trust_remote_code=True)\n",
        "tokenizer = AutoTokenizer.from_pretrained('openbmb/MiniCPM-Llama3-V-2_5-int4', trust_remote_code=True)\n",
        "model.eval()\n",
        "\n"
      ]
    },
    {
      "cell_type": "code",
      "execution_count": null,
      "metadata": {
        "colab": {
          "base_uri": "https://localhost:8080/"
        },
        "id": "lpLsztOuj9F2",
        "outputId": "3b30246f-867d-4fce-cafc-d9124286798b"
      },
      "outputs": [
        {
          "name": "stdout",
          "output_type": "stream",
          "text": [
            "--2024-07-30 16:18:36--  https://lh5.googleusercontent.com/proxy/VXojqdQ5qJ25E7rCarZJh_4U0WIQgWG3kYmhjtjc6_gSZXweSVwtcu-UC7NDzsO6RjudslM6N-3XtT4DREje30jDkCG-4Ru--v2RsQ\n",
            "Resolving lh5.googleusercontent.com (lh5.googleusercontent.com)... 142.251.175.132, 2404:6800:4003:c1c::84\n",
            "Connecting to lh5.googleusercontent.com (lh5.googleusercontent.com)|142.251.175.132|:443... connected.\n",
            "HTTP request sent, awaiting response... 200 OK\n",
            "Length: 23574 (23K) [image/png]\n",
            "Saving to: ‘flowchart.png’\n",
            "\n",
            "flowchart.png       100%[===================>]  23.02K  --.-KB/s    in 0s      \n",
            "\n",
            "2024-07-30 16:18:37 (87.5 MB/s) - ‘flowchart.png’ saved [23574/23574]\n",
            "\n"
          ]
        }
      ],
      "source": [
        "!wget https://lh5.googleusercontent.com/proxy/VXojqdQ5qJ25E7rCarZJh_4U0WIQgWG3kYmhjtjc6_gSZXweSVwtcu-UC7NDzsO6RjudslM6N-3XtT4DREje30jDkCG-4Ru--v2RsQ -O flowchart.png\n"
      ]
    },
    {
      "cell_type": "code",
      "execution_count": null,
      "metadata": {
        "colab": {
          "base_uri": "https://localhost:8080/"
        },
        "id": "1iYuvH2hinHF",
        "outputId": "d370d5fc-0822-4420-9ae5-9c756ff531ba"
      },
      "outputs": [
        {
          "name": "stdout",
          "output_type": "stream",
          "text": [
            "Enter URL of image: https://lh5.googleusercontent.com/proxy/VXojqdQ5qJ25E7rCarZJh_4U0WIQgWG3kYmhjtjc6_gSZXweSVwtcu-UC7NDzsO6RjudslM6N-3XtT4DREje30jDkCG-4Ru--v2RsQ\n"
          ]
        },
        {
          "data": {
            "text/plain": [
              "CompletedProcess(args=['wget', 'https://lh5.googleusercontent.com/proxy/VXojqdQ5qJ25E7rCarZJh_4U0WIQgWG3kYmhjtjc6_gSZXweSVwtcu-UC7NDzsO6RjudslM6N-3XtT4DREje30jDkCG-4Ru--v2RsQ', '-O', 'flowchart.png'], returncode=0)"
            ]
          },
          "execution_count": 18,
          "metadata": {},
          "output_type": "execute_result"
        }
      ],
      "source": [
        "import subprocess\n",
        "url = input(\"Enter URL of image: \")\n",
        "\n",
        "subprocess.run([\"wget\", url, \"-O\", \"flowchart.png\"])\n"
      ]
    },
    {
      "cell_type": "code",
      "execution_count": null,
      "metadata": {
        "id": "DPqYbDBoZY_E"
      },
      "outputs": [],
      "source": [
        "system_prompt = 'You are an expert in creating knowledge graph Cypher queries to generate nodes and relationships from images. When provided with an image, generate a Cypher query that can be executed directly on a Neo4j server. Do not include any explanations or markdown in your response.'"
      ]
    },
    {
      "cell_type": "code",
      "execution_count": null,
      "metadata": {
        "id": "X3mOFbWecxvJ"
      },
      "outputs": [],
      "source": [
        "question = 'Please analyze the attached image and generate a Cypher query to create nodes and relationships based on the contents of the image. Ensure the query is executable directly on a Neo4j server. Use the same names for nodes and relationships as shown in the image. Do not include any explanations or markdown in your response.'"
      ]
    },
    {
      "cell_type": "code",
      "execution_count": null,
      "metadata": {
        "colab": {
          "base_uri": "https://localhost:8080/"
        },
        "id": "TuLOnv7qhEF1",
        "outputId": "b9a34f23-a9e0-4d6d-bb6e-f0df692adad6"
      },
      "outputs": [
        {
          "name": "stdout",
          "output_type": "stream",
          "text": [
            "CREATE (buttonPress:ButtonPress)\n",
            "CREATE (ledOff:LED {name:\"LED Off\"})\n",
            "CREATE (turnOnLed:LED {name:\"Turn on LED\"})\n",
            "CREATE (ledOn:LED {name:\"LED On\"})\n",
            "CREATE (blinkLed:LED {name:\"Blink LED\"})\n",
            "CREATE (timeout:Timeout)\n",
            "CREATE (turnOffLed:LED {name:\"Turn off LED\"})\n",
            "CREATE (turnOffLed)-[:ButtonPress]->(buttonPress)\n",
            "CREATE (buttonPress)-[:ButtonPress]->(turnOnLed)\n",
            "CREATE (turnOnLed)-[:ButtonPress]->(ledOff)\n",
            "CREATE (ledOff)-[:ButtonPress]->(ledOn)\n",
            "CREATE (ledOn)-[:ButtonPress]->(blinkLed)\n",
            "CREATE (ledOff)-[:Timeout]->(turnOffLed)\n",
            "CREATE (turnOffLed)-[:Timeout]->(ledOff)\n",
            "CREATE (ledOn)-[:Timeout]->(turnOnLed)\n",
            "CREATE (turnOnLed)-[:Timeout]->(ledOn)\n",
            "CREATE (ledBlink)-[:Timeout]->(blinkLed)\n",
            "CREATE (blinkLed)-[:Timeout]->(ledBlink)\n"
          ]
        }
      ],
      "source": [
        "image = Image.open('flowchart.png').convert('RGB')\n",
        "\n",
        "msgs = [{'role': 'user', 'content': question}]\n",
        "\n",
        "res = model.chat(\n",
        "    image=image,\n",
        "    msgs=msgs,\n",
        "    tokenizer=tokenizer,\n",
        "    sampling=True,\n",
        "    temperature=0.7,\n",
        "    system_prompt=system_prompt\n",
        ")\n",
        "print(res)\n",
        "\n",
        "\n",
        "# res = model.chat(\n",
        "#     image=image,\n",
        "#     msgs=msgs,\n",
        "#     tokenizer=tokenizer,\n",
        "#     sampling=True,\n",
        "#     temperature=0.7,\n",
        "#     stream=True\n",
        "# )\n",
        "\n",
        "# generated_text = \"\"\n",
        "# for new_text in res:\n",
        "#     generated_text += new_text\n",
        "#     print(new_text, flush=True, end='')\n"
      ]
    },
    {
      "cell_type": "code",
      "execution_count": null,
      "metadata": {
        "colab": {
          "base_uri": "https://localhost:8080/"
        },
        "id": "7jWjNPRMhECM",
        "outputId": "0ed0116e-e752-46b9-d8e6-a6ae704b0d70"
      },
      "outputs": [
        {
          "name": "stdout",
          "output_type": "stream",
          "text": [
            "Collecting aim\n",
            "  Downloading aim-3.23.0-cp310-cp310-manylinux_2_28_x86_64.whl.metadata (35 kB)\n",
            "Collecting aim-ui==3.23.0 (from aim)\n",
            "  Downloading aim-ui-3.23.0.tar.gz (21.3 MB)\n",
            "\u001b[2K     \u001b[90m━━━━━━━━━━━━━━━━━━━━━━━━━━━━━━━━━━━━━━━━\u001b[0m \u001b[32m21.3/21.3 MB\u001b[0m \u001b[31m43.8 MB/s\u001b[0m eta \u001b[36m0:00:00\u001b[0m\n",
            "\u001b[?25h  Preparing metadata (setup.py) ... \u001b[?25l\u001b[?25hdone\n",
            "Collecting aimrecords==0.0.7 (from aim)\n",
            "  Downloading aimrecords-0.0.7-py2.py3-none-any.whl.metadata (2.1 kB)\n",
            "Collecting aimrocks==0.5.* (from aim)\n",
            "  Downloading aimrocks-0.5.2-cp310-cp310-manylinux_2_24_x86_64.whl.metadata (580 bytes)\n",
            "Requirement already satisfied: cachetools>=4.0.0 in /usr/local/lib/python3.10/dist-packages (from aim) (5.4.0)\n",
            "Requirement already satisfied: click>=7.0 in /usr/local/lib/python3.10/dist-packages (from aim) (8.1.7)\n",
            "Requirement already satisfied: cryptography>=3.0 in /usr/local/lib/python3.10/dist-packages (from aim) (42.0.8)\n",
            "Requirement already satisfied: filelock<4,>=3.3.0 in /usr/local/lib/python3.10/dist-packages (from aim) (3.15.4)\n",
            "Requirement already satisfied: numpy<3,>=1.12.0 in /usr/local/lib/python3.10/dist-packages (from aim) (1.26.4)\n",
            "Requirement already satisfied: psutil>=5.6.7 in /usr/local/lib/python3.10/dist-packages (from aim) (5.9.5)\n",
            "Collecting RestrictedPython>=5.1 (from aim)\n",
            "  Downloading RestrictedPython-7.1-py3-none-any.whl.metadata (12 kB)\n",
            "Requirement already satisfied: tqdm>=4.20.0 in /usr/local/lib/python3.10/dist-packages (from aim) (4.66.4)\n",
            "Collecting aiofiles>=0.5.0 (from aim)\n",
            "  Downloading aiofiles-24.1.0-py3-none-any.whl.metadata (10 kB)\n",
            "Collecting alembic<2,>=1.5.0 (from aim)\n",
            "  Downloading alembic-1.13.2-py3-none-any.whl.metadata (7.4 kB)\n",
            "Collecting fastapi<1,>=0.69.0 (from aim)\n",
            "  Downloading fastapi-0.111.1-py3-none-any.whl.metadata (26 kB)\n",
            "Requirement already satisfied: jinja2<4,>=2.10.0 in /usr/local/lib/python3.10/dist-packages (from aim) (3.1.4)\n",
            "Requirement already satisfied: pytz>=2019.1 in /usr/local/lib/python3.10/dist-packages (from aim) (2024.1)\n",
            "Requirement already satisfied: SQLAlchemy>=1.4.1 in /usr/local/lib/python3.10/dist-packages (from aim) (2.0.31)\n",
            "Collecting uvicorn<1,>=0.12.0 (from aim)\n",
            "  Downloading uvicorn-0.30.3-py3-none-any.whl.metadata (6.5 kB)\n",
            "Requirement already satisfied: Pillow>=8.0.0 in /usr/local/lib/python3.10/dist-packages (from aim) (9.4.0)\n",
            "Requirement already satisfied: packaging>=15.0 in /usr/local/lib/python3.10/dist-packages (from aim) (24.1)\n",
            "Requirement already satisfied: python-dateutil in /usr/local/lib/python3.10/dist-packages (from aim) (2.8.2)\n",
            "Requirement already satisfied: requests in /usr/local/lib/python3.10/dist-packages (from aim) (2.31.0)\n",
            "Collecting websockets (from aim)\n",
            "  Downloading websockets-12.0-cp310-cp310-manylinux_2_5_x86_64.manylinux1_x86_64.manylinux_2_17_x86_64.manylinux2014_x86_64.whl.metadata (6.6 kB)\n",
            "Collecting boto3 (from aim)\n",
            "  Downloading boto3-1.34.150-py3-none-any.whl.metadata (6.6 kB)\n",
            "Collecting base58==2.0.1 (from aimrecords==0.0.7->aim)\n",
            "  Downloading base58-2.0.1-py3-none-any.whl.metadata (540 bytes)\n",
            "Collecting Mako (from alembic<2,>=1.5.0->aim)\n",
            "  Downloading Mako-1.3.5-py3-none-any.whl.metadata (2.9 kB)\n",
            "Requirement already satisfied: typing-extensions>=4 in /usr/local/lib/python3.10/dist-packages (from alembic<2,>=1.5.0->aim) (4.12.2)\n",
            "Requirement already satisfied: cffi>=1.12 in /usr/local/lib/python3.10/dist-packages (from cryptography>=3.0->aim) (1.16.0)\n",
            "Collecting starlette<0.38.0,>=0.37.2 (from fastapi<1,>=0.69.0->aim)\n",
            "  Downloading starlette-0.37.2-py3-none-any.whl.metadata (5.9 kB)\n",
            "Requirement already satisfied: pydantic!=1.8,!=1.8.1,!=2.0.0,!=2.0.1,!=2.1.0,<3.0.0,>=1.7.4 in /usr/local/lib/python3.10/dist-packages (from fastapi<1,>=0.69.0->aim) (2.8.2)\n",
            "Collecting fastapi-cli>=0.0.2 (from fastapi<1,>=0.69.0->aim)\n",
            "  Downloading fastapi_cli-0.0.4-py3-none-any.whl.metadata (7.0 kB)\n",
            "Collecting httpx>=0.23.0 (from fastapi<1,>=0.69.0->aim)\n",
            "  Downloading httpx-0.27.0-py3-none-any.whl.metadata (7.2 kB)\n",
            "Collecting python-multipart>=0.0.7 (from fastapi<1,>=0.69.0->aim)\n",
            "  Downloading python_multipart-0.0.9-py3-none-any.whl.metadata (2.5 kB)\n",
            "Collecting email_validator>=2.0.0 (from fastapi<1,>=0.69.0->aim)\n",
            "  Downloading email_validator-2.2.0-py3-none-any.whl.metadata (25 kB)\n",
            "Requirement already satisfied: MarkupSafe>=2.0 in /usr/local/lib/python3.10/dist-packages (from jinja2<4,>=2.10.0->aim) (2.1.5)\n",
            "Requirement already satisfied: greenlet!=0.4.17 in /usr/local/lib/python3.10/dist-packages (from SQLAlchemy>=1.4.1->aim) (3.0.3)\n",
            "Collecting h11>=0.8 (from uvicorn<1,>=0.12.0->aim)\n",
            "  Downloading h11-0.14.0-py3-none-any.whl.metadata (8.2 kB)\n",
            "Collecting botocore<1.35.0,>=1.34.150 (from boto3->aim)\n",
            "  Downloading botocore-1.34.150-py3-none-any.whl.metadata (5.7 kB)\n",
            "Collecting jmespath<2.0.0,>=0.7.1 (from boto3->aim)\n",
            "  Downloading jmespath-1.0.1-py3-none-any.whl.metadata (7.6 kB)\n",
            "Collecting s3transfer<0.11.0,>=0.10.0 (from boto3->aim)\n",
            "  Downloading s3transfer-0.10.2-py3-none-any.whl.metadata (1.7 kB)\n",
            "Requirement already satisfied: six>=1.5 in /usr/local/lib/python3.10/dist-packages (from python-dateutil->aim) (1.16.0)\n",
            "Requirement already satisfied: charset-normalizer<4,>=2 in /usr/local/lib/python3.10/dist-packages (from requests->aim) (3.3.2)\n",
            "Requirement already satisfied: idna<4,>=2.5 in /usr/local/lib/python3.10/dist-packages (from requests->aim) (3.7)\n",
            "Requirement already satisfied: urllib3<3,>=1.21.1 in /usr/local/lib/python3.10/dist-packages (from requests->aim) (2.0.7)\n",
            "Requirement already satisfied: certifi>=2017.4.17 in /usr/local/lib/python3.10/dist-packages (from requests->aim) (2024.7.4)\n",
            "Requirement already satisfied: pycparser in /usr/local/lib/python3.10/dist-packages (from cffi>=1.12->cryptography>=3.0->aim) (2.22)\n",
            "Collecting dnspython>=2.0.0 (from email_validator>=2.0.0->fastapi<1,>=0.69.0->aim)\n",
            "  Downloading dnspython-2.6.1-py3-none-any.whl.metadata (5.8 kB)\n",
            "Requirement already satisfied: typer>=0.12.3 in /usr/local/lib/python3.10/dist-packages (from fastapi-cli>=0.0.2->fastapi<1,>=0.69.0->aim) (0.12.3)\n",
            "Requirement already satisfied: anyio in /usr/local/lib/python3.10/dist-packages (from httpx>=0.23.0->fastapi<1,>=0.69.0->aim) (3.7.1)\n",
            "Collecting httpcore==1.* (from httpx>=0.23.0->fastapi<1,>=0.69.0->aim)\n",
            "  Downloading httpcore-1.0.5-py3-none-any.whl.metadata (20 kB)\n",
            "Requirement already satisfied: sniffio in /usr/local/lib/python3.10/dist-packages (from httpx>=0.23.0->fastapi<1,>=0.69.0->aim) (1.3.1)\n",
            "Requirement already satisfied: annotated-types>=0.4.0 in /usr/local/lib/python3.10/dist-packages (from pydantic!=1.8,!=1.8.1,!=2.0.0,!=2.0.1,!=2.1.0,<3.0.0,>=1.7.4->fastapi<1,>=0.69.0->aim) (0.7.0)\n",
            "Requirement already satisfied: pydantic-core==2.20.1 in /usr/local/lib/python3.10/dist-packages (from pydantic!=1.8,!=1.8.1,!=2.0.0,!=2.0.1,!=2.1.0,<3.0.0,>=1.7.4->fastapi<1,>=0.69.0->aim) (2.20.1)\n",
            "Collecting httptools>=0.5.0 (from uvicorn[standard]>=0.12.0->fastapi<1,>=0.69.0->aim)\n",
            "  Downloading httptools-0.6.1-cp310-cp310-manylinux_2_5_x86_64.manylinux1_x86_64.manylinux_2_17_x86_64.manylinux2014_x86_64.whl.metadata (3.6 kB)\n",
            "Collecting python-dotenv>=0.13 (from uvicorn[standard]>=0.12.0->fastapi<1,>=0.69.0->aim)\n",
            "  Downloading python_dotenv-1.0.1-py3-none-any.whl.metadata (23 kB)\n",
            "Requirement already satisfied: pyyaml>=5.1 in /usr/local/lib/python3.10/dist-packages (from uvicorn[standard]>=0.12.0->fastapi<1,>=0.69.0->aim) (6.0.1)\n",
            "Collecting uvloop!=0.15.0,!=0.15.1,>=0.14.0 (from uvicorn[standard]>=0.12.0->fastapi<1,>=0.69.0->aim)\n",
            "  Downloading uvloop-0.19.0-cp310-cp310-manylinux_2_17_x86_64.manylinux2014_x86_64.whl.metadata (4.9 kB)\n",
            "Collecting watchfiles>=0.13 (from uvicorn[standard]>=0.12.0->fastapi<1,>=0.69.0->aim)\n",
            "  Downloading watchfiles-0.22.0-cp310-cp310-manylinux_2_17_x86_64.manylinux2014_x86_64.whl.metadata (4.9 kB)\n",
            "Requirement already satisfied: exceptiongroup in /usr/local/lib/python3.10/dist-packages (from anyio->httpx>=0.23.0->fastapi<1,>=0.69.0->aim) (1.2.2)\n",
            "Requirement already satisfied: shellingham>=1.3.0 in /usr/local/lib/python3.10/dist-packages (from typer>=0.12.3->fastapi-cli>=0.0.2->fastapi<1,>=0.69.0->aim) (1.5.4)\n",
            "Requirement already satisfied: rich>=10.11.0 in /usr/local/lib/python3.10/dist-packages (from typer>=0.12.3->fastapi-cli>=0.0.2->fastapi<1,>=0.69.0->aim) (13.7.1)\n",
            "Requirement already satisfied: markdown-it-py>=2.2.0 in /usr/local/lib/python3.10/dist-packages (from rich>=10.11.0->typer>=0.12.3->fastapi-cli>=0.0.2->fastapi<1,>=0.69.0->aim) (3.0.0)\n",
            "Requirement already satisfied: pygments<3.0.0,>=2.13.0 in /usr/local/lib/python3.10/dist-packages (from rich>=10.11.0->typer>=0.12.3->fastapi-cli>=0.0.2->fastapi<1,>=0.69.0->aim) (2.16.1)\n",
            "Requirement already satisfied: mdurl~=0.1 in /usr/local/lib/python3.10/dist-packages (from markdown-it-py>=2.2.0->rich>=10.11.0->typer>=0.12.3->fastapi-cli>=0.0.2->fastapi<1,>=0.69.0->aim) (0.1.2)\n",
            "Downloading aim-3.23.0-cp310-cp310-manylinux_2_28_x86_64.whl (6.9 MB)\n",
            "\u001b[2K   \u001b[90m━━━━━━━━━━━━━━━━━━━━━━━━━━━━━━━━━━━━━━━━\u001b[0m \u001b[32m6.9/6.9 MB\u001b[0m \u001b[31m106.9 MB/s\u001b[0m eta \u001b[36m0:00:00\u001b[0m\n",
            "\u001b[?25hDownloading aimrecords-0.0.7-py2.py3-none-any.whl (28 kB)\n",
            "Downloading aimrocks-0.5.2-cp310-cp310-manylinux_2_24_x86_64.whl (6.1 MB)\n",
            "\u001b[2K   \u001b[90m━━━━━━━━━━━━━━━━━━━━━━━━━━━━━━━━━━━━━━━━\u001b[0m \u001b[32m6.1/6.1 MB\u001b[0m \u001b[31m78.5 MB/s\u001b[0m eta \u001b[36m0:00:00\u001b[0m\n",
            "\u001b[?25hDownloading base58-2.0.1-py3-none-any.whl (4.3 kB)\n",
            "Downloading aiofiles-24.1.0-py3-none-any.whl (15 kB)\n",
            "Downloading alembic-1.13.2-py3-none-any.whl (232 kB)\n",
            "\u001b[2K   \u001b[90m━━━━━━━━━━━━━━━━━━━━━━━━━━━━━━━━━━━━━━━━\u001b[0m \u001b[32m233.0/233.0 kB\u001b[0m \u001b[31m22.4 MB/s\u001b[0m eta \u001b[36m0:00:00\u001b[0m\n",
            "\u001b[?25hDownloading fastapi-0.111.1-py3-none-any.whl (92 kB)\n",
            "\u001b[2K   \u001b[90m━━━━━━━━━━━━━━━━━━━━━━━━━━━━━━━━━━━━━━━━\u001b[0m \u001b[32m92.2/92.2 kB\u001b[0m \u001b[31m9.3 MB/s\u001b[0m eta \u001b[36m0:00:00\u001b[0m\n",
            "\u001b[?25hDownloading RestrictedPython-7.1-py3-none-any.whl (26 kB)\n",
            "Downloading uvicorn-0.30.3-py3-none-any.whl (62 kB)\n",
            "\u001b[2K   \u001b[90m━━━━━━━━━━━━━━━━━━━━━━━━━━━━━━━━━━━━━━━━\u001b[0m \u001b[32m62.8/62.8 kB\u001b[0m \u001b[31m4.1 MB/s\u001b[0m eta \u001b[36m0:00:00\u001b[0m\n",
            "\u001b[?25hDownloading boto3-1.34.150-py3-none-any.whl (139 kB)\n",
            "\u001b[2K   \u001b[90m━━━━━━━━━━━━━━━━━━━━━━━━━━━━━━━━━━━━━━━━\u001b[0m \u001b[32m139.2/139.2 kB\u001b[0m \u001b[31m10.3 MB/s\u001b[0m eta \u001b[36m0:00:00\u001b[0m\n",
            "\u001b[?25hDownloading websockets-12.0-cp310-cp310-manylinux_2_5_x86_64.manylinux1_x86_64.manylinux_2_17_x86_64.manylinux2014_x86_64.whl (130 kB)\n",
            "\u001b[2K   \u001b[90m━━━━━━━━━━━━━━━━━━━━━━━━━━━━━━━━━━━━━━━━\u001b[0m \u001b[32m130.2/130.2 kB\u001b[0m \u001b[31m9.7 MB/s\u001b[0m eta \u001b[36m0:00:00\u001b[0m\n",
            "\u001b[?25hDownloading botocore-1.34.150-py3-none-any.whl (12.4 MB)\n",
            "\u001b[2K   \u001b[90m━━━━━━━━━━━━━━━━━━━━━━━━━━━━━━━━━━━━━━━━\u001b[0m \u001b[32m12.4/12.4 MB\u001b[0m \u001b[31m56.2 MB/s\u001b[0m eta \u001b[36m0:00:00\u001b[0m\n",
            "\u001b[?25hDownloading email_validator-2.2.0-py3-none-any.whl (33 kB)\n",
            "Downloading fastapi_cli-0.0.4-py3-none-any.whl (9.5 kB)\n",
            "Downloading h11-0.14.0-py3-none-any.whl (58 kB)\n",
            "\u001b[2K   \u001b[90m━━━━━━━━━━━━━━━━━━━━━━━━━━━━━━━━━━━━━━━━\u001b[0m \u001b[32m58.3/58.3 kB\u001b[0m \u001b[31m4.7 MB/s\u001b[0m eta \u001b[36m0:00:00\u001b[0m\n",
            "\u001b[?25hDownloading httpx-0.27.0-py3-none-any.whl (75 kB)\n",
            "\u001b[2K   \u001b[90m━━━━━━━━━━━━━━━━━━━━━━━━━━━━━━━━━━━━━━━━\u001b[0m \u001b[32m75.6/75.6 kB\u001b[0m \u001b[31m5.7 MB/s\u001b[0m eta \u001b[36m0:00:00\u001b[0m\n",
            "\u001b[?25hDownloading httpcore-1.0.5-py3-none-any.whl (77 kB)\n",
            "\u001b[2K   \u001b[90m━━━━━━━━━━━━━━━━━━━━━━━━━━━━━━━━━━━━━━━━\u001b[0m \u001b[32m77.9/77.9 kB\u001b[0m \u001b[31m6.0 MB/s\u001b[0m eta \u001b[36m0:00:00\u001b[0m\n",
            "\u001b[?25hDownloading jmespath-1.0.1-py3-none-any.whl (20 kB)\n",
            "Downloading python_multipart-0.0.9-py3-none-any.whl (22 kB)\n",
            "Downloading s3transfer-0.10.2-py3-none-any.whl (82 kB)\n",
            "\u001b[2K   \u001b[90m━━━━━━━━━━━━━━━━━━━━━━━━━━━━━━━━━━━━━━━━\u001b[0m \u001b[32m82.7/82.7 kB\u001b[0m \u001b[31m6.3 MB/s\u001b[0m eta \u001b[36m0:00:00\u001b[0m\n",
            "\u001b[?25hDownloading starlette-0.37.2-py3-none-any.whl (71 kB)\n",
            "\u001b[2K   \u001b[90m━━━━━━━━━━━━━━━━━━━━━━━━━━━━━━━━━━━━━━━━\u001b[0m \u001b[32m71.9/71.9 kB\u001b[0m \u001b[31m4.6 MB/s\u001b[0m eta \u001b[36m0:00:00\u001b[0m\n",
            "\u001b[?25hDownloading Mako-1.3.5-py3-none-any.whl (78 kB)\n",
            "\u001b[2K   \u001b[90m━━━━━━━━━━━━━━━━━━━━━━━━━━━━━━━━━━━━━━━━\u001b[0m \u001b[32m78.6/78.6 kB\u001b[0m \u001b[31m4.2 MB/s\u001b[0m eta \u001b[36m0:00:00\u001b[0m\n",
            "\u001b[?25hDownloading dnspython-2.6.1-py3-none-any.whl (307 kB)\n",
            "\u001b[2K   \u001b[90m━━━━━━━━━━━━━━━━━━━━━━━━━━━━━━━━━━━━━━━━\u001b[0m \u001b[32m307.7/307.7 kB\u001b[0m \u001b[31m22.0 MB/s\u001b[0m eta \u001b[36m0:00:00\u001b[0m\n",
            "\u001b[?25hDownloading httptools-0.6.1-cp310-cp310-manylinux_2_5_x86_64.manylinux1_x86_64.manylinux_2_17_x86_64.manylinux2014_x86_64.whl (341 kB)\n",
            "\u001b[2K   \u001b[90m━━━━━━━━━━━━━━━━━━━━━━━━━━━━━━━━━━━━━━━━\u001b[0m \u001b[32m341.4/341.4 kB\u001b[0m \u001b[31m23.2 MB/s\u001b[0m eta \u001b[36m0:00:00\u001b[0m\n",
            "\u001b[?25hDownloading python_dotenv-1.0.1-py3-none-any.whl (19 kB)\n",
            "Downloading uvloop-0.19.0-cp310-cp310-manylinux_2_17_x86_64.manylinux2014_x86_64.whl (3.4 MB)\n",
            "\u001b[2K   \u001b[90m━━━━━━━━━━━━━━━━━━━━━━━━━━━━━━━━━━━━━━━━\u001b[0m \u001b[32m3.4/3.4 MB\u001b[0m \u001b[31m64.2 MB/s\u001b[0m eta \u001b[36m0:00:00\u001b[0m\n",
            "\u001b[?25hDownloading watchfiles-0.22.0-cp310-cp310-manylinux_2_17_x86_64.manylinux2014_x86_64.whl (1.2 MB)\n",
            "\u001b[2K   \u001b[90m━━━━━━━━━━━━━━━━━━━━━━━━━━━━━━━━━━━━━━━━\u001b[0m \u001b[32m1.2/1.2 MB\u001b[0m \u001b[31m54.0 MB/s\u001b[0m eta \u001b[36m0:00:00\u001b[0m\n",
            "\u001b[?25hBuilding wheels for collected packages: aim-ui\n",
            "  Building wheel for aim-ui (setup.py) ... \u001b[?25l\u001b[?25hdone\n",
            "  Created wheel for aim-ui: filename=aim_ui-3.23.0-py3-none-any.whl size=21474687 sha256=cb5bf05e645f20c400346eeb988e476533f4560c3104a7fabaff10f2863f6a32\n",
            "  Stored in directory: /root/.cache/pip/wheels/ff/ed/ea/6458fa322d5575f9efc90d4b6ea4dadcfff583ca392da72786\n",
            "Successfully built aim-ui\n",
            "Installing collected packages: aimrocks, aim-ui, websockets, uvloop, RestrictedPython, python-multipart, python-dotenv, Mako, jmespath, httptools, h11, dnspython, base58, aiofiles, watchfiles, uvicorn, starlette, httpcore, email_validator, botocore, alembic, aimrecords, s3transfer, httpx, fastapi-cli, boto3, fastapi, aim\n",
            "Successfully installed Mako-1.3.5 RestrictedPython-7.1 aim-3.23.0 aim-ui-3.23.0 aimrecords-0.0.7 aimrocks-0.5.2 aiofiles-24.1.0 alembic-1.13.2 base58-2.0.1 boto3-1.34.150 botocore-1.34.150 dnspython-2.6.1 email_validator-2.2.0 fastapi-0.111.1 fastapi-cli-0.0.4 h11-0.14.0 httpcore-1.0.5 httptools-0.6.1 httpx-0.27.0 jmespath-1.0.1 python-dotenv-1.0.1 python-multipart-0.0.9 s3transfer-0.10.2 starlette-0.37.2 uvicorn-0.30.3 uvloop-0.19.0 watchfiles-0.22.0 websockets-12.0\n"
          ]
        }
      ],
      "source": [
        "!pip install aim\n"
      ]
    },
    {
      "cell_type": "code",
      "execution_count": null,
      "metadata": {
        "id": "DW_5u7pRhD-o"
      },
      "outputs": [],
      "source": [
        "import aim\n",
        "\n",
        "# Initialize Aim\n",
        "run = aim.Run()\n"
      ]
    },
    {
      "cell_type": "code",
      "execution_count": null,
      "metadata": {
        "colab": {
          "background_save": true,
          "base_uri": "https://localhost:8080/"
        },
        "id": "fkPcjJc9hD8-",
        "outputId": "550f85f6-8c30-4be1-e634-9cc33bde9da8"
      },
      "outputs": [
        {
          "name": "stdout",
          "output_type": "stream",
          "text": [
            "\u001b[33mRunning Aim UI on repo `<Repo#6271700669887280153 path=/content/.aim read_only=None>`\u001b[0m\n",
            "Open http://127.0.0.1:43800\n",
            "Press Ctrl+C to exit\n"
          ]
        }
      ],
      "source": [
        "!aim up"
      ]
    },
    {
      "cell_type": "code",
      "execution_count": null,
      "metadata": {
        "id": "csWEipyH7Wft"
      },
      "outputs": [],
      "source": []
    }
  ],
  "metadata": {
    "accelerator": "GPU",
    "colab": {
      "gpuType": "T4",
      "provenance": [],
      "authorship_tag": "ABX9TyN1DJreuhHMVcWfAt7W7vYj",
      "include_colab_link": true
    },
    "kernelspec": {
      "display_name": "Python 3",
      "name": "python3"
    },
    "language_info": {
      "name": "python"
    }
  },
  "nbformat": 4,
  "nbformat_minor": 0
}